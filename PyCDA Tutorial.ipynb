{
 "cells": [
  {
   "cell_type": "markdown",
   "metadata": {},
   "source": [
    "## PyCDA Tutorial\n",
    "\n",
    "This tutorial is intended to help non-coders make crater detections using PyCDA. By following the steps in this tutorial, you can make crater detections on your computer.\n",
    "\n",
    "## Getting Started with Python and Conda\n",
    "\n",
    "If you're new to Python altogether, the fastest way to get started (and the approach we’ll take in this tutorial) is by installing Conda on your computer.\n",
    "The recommended version of conda for this tutorial is Anaconda. Anaconda comes with python and a lot of extra features. Go to [this page](https://www.anaconda.com/download/), select your operating system, and download the Python 3.6 version. Follow the steps to install Anaconda on your system; for additional help with getting up and running with Anaconda, check out [this great tutorial for installing Anaconda on Windows](https://medium.com/@GalarnykMichael/install-python-on-windows-anaconda-c63c7c3d1444) or [this tutorial for installing Anaconda on MacOS](https://medium.com/@GalarnykMichael/install-python-on-mac-anaconda-ccd9f2014072).\n",
    "\n",
    "### Building your Crater Detection Environment\n",
    "Although not strictly necessary, I highly recommend creating a dedicated conda environment to install pycda. Open your Anaconda prompt and type:<br>\n",
    "\n",
    "`conda create --name craters python=3.6`<br>\n",
    "\n",
    "This creates an environment on your system called \"craters.\" Next, activate your \"craters\" environment:\n",
    "\n",
    "`source activate craters` (MacOS and Linux)<br>\n",
    "`activate craters` (Windows)\n",
    "\n",
    "Now that your environment is activated, install pycda with:\n",
    "\n",
    "`pip install pycda`\n",
    "\n",
    "Pip will take care of the rest for you. Once it's downloaded and installed, you're ready to go! You can test your installation with:\n",
    "\n",
    "```python\n",
    "python\n",
    "Python 3.6.5 |Anaconda, Inc.| (default, Apr 29 2018, 16:14:56) \n",
    "[GCC 7.2.0] on linux\n",
    "Type \"help\", \"copyright\", \"credits\" or \"license\" for more information.\n",
    ">>> import pycda\n",
    ">>>\n",
    "```\n",
    "\n",
    "If this works, you've successfuly install PyCDA!\n",
    "\n",
    "## Open Up a Jupyter Notebook\n",
    "\n",
    "Jupyter is a python application that allows you to execute python code and visualize results in very easy-to-use interface. Best of all, it comes with Anaconda, so in the above installation process, you should have installed Jupyter as well! Open a notebook by going to your Anaconda prompt and typing:\n",
    "\n",
    "`jupyter notebook`\n",
    "\n",
    "You should see some output in the console; if you've never run a notebook before, you may need to copy and paste the link that appears. Otherwise, it should automatically open a tab in your browser. From the Jupyter menu, click on the tab on the upper-right corner called \"new\" and select \"Python 3\" from the drop-down menu. This will open up a new notebook.\n",
    "\n",
    "\n",
    "\n",
    "\n",
    "## Load an Image from PyCDA\n",
    "\n",
    "For convenience, the PyCDA package comes with a number of sample photos. This is the list of all of them:\n",
    "\n",
    "```\n",
    "holdout_tile.pgm\n",
    "rgb_sample.jpg\n",
    "mercury.png\n",
    "selection0.png\n",
    "selection2.png\n",
    "selection3.png\n",
    "selection4.png\n",
    "selection5.png\n",
    "```\n",
    "\n"
   ]
  },
  {
   "cell_type": "markdown",
   "metadata": {},
   "source": []
  }
 ],
 "metadata": {
  "kernelspec": {
   "display_name": "Python [default]",
   "language": "python",
   "name": "python3"
  },
  "language_info": {
   "codemirror_mode": {
    "name": "ipython",
    "version": 3
   },
   "file_extension": ".py",
   "mimetype": "text/x-python",
   "name": "python",
   "nbconvert_exporter": "python",
   "pygments_lexer": "ipython3",
   "version": "3.6.4"
  }
 },
 "nbformat": 4,
 "nbformat_minor": 2
}
